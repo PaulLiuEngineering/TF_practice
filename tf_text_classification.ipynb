{
 "cells": [
  {
   "cell_type": "code",
   "execution_count": 1,
   "metadata": {},
   "outputs": [
    {
     "name": "stderr",
     "output_type": "stream",
     "text": [
      "C:\\Users\\paull\\Anaconda3\\lib\\site-packages\\h5py\\__init__.py:36: FutureWarning: Conversion of the second argument of issubdtype from `float` to `np.floating` is deprecated. In future, it will be treated as `np.float64 == np.dtype(float).type`.\n",
      "  from ._conv import register_converters as _register_converters\n"
     ]
    },
    {
     "name": "stdout",
     "output_type": "stream",
     "text": [
      "1.10.0\n"
     ]
    }
   ],
   "source": [
    "from __future__ import absolute_import, division, print_function\n",
    "\n",
    "import tensorflow as tf\n",
    "from tensorflow import keras\n",
    "\n",
    "import numpy as np\n",
    "\n",
    "print(tf.__version__)"
   ]
  },
  {
   "cell_type": "code",
   "execution_count": 2,
   "metadata": {},
   "outputs": [
    {
     "name": "stdout",
     "output_type": "stream",
     "text": [
      "Downloading data from https://storage.googleapis.com/tensorflow/tf-keras-datasets/imdb.npz\n",
      "17465344/17464789 [==============================] - 2s 0us/step\n"
     ]
    }
   ],
   "source": [
    "imdb = keras.datasets.imdb\n",
    "\n",
    "(train_data, train_labels), (test_data, test_labels) = imdb.load_data(num_words=10000)"
   ]
  },
  {
   "cell_type": "code",
   "execution_count": 6,
   "metadata": {},
   "outputs": [
    {
     "name": "stdout",
     "output_type": "stream",
     "text": [
      "Training entries: 25000, labels: 25000\n"
     ]
    }
   ],
   "source": [
    "print(\"Training entries: {}, labels: {}\".format(len(train_data), len(train_labels)))"
   ]
  },
  {
   "cell_type": "code",
   "execution_count": 7,
   "metadata": {},
   "outputs": [
    {
     "name": "stdout",
     "output_type": "stream",
     "text": [
      "[1, 14, 22, 16, 43, 530, 973, 1622, 1385, 65, 458, 4468, 66, 3941, 4, 173, 36, 256, 5, 25, 100, 43, 838, 112, 50, 670, 2, 9, 35, 480, 284, 5, 150, 4, 172, 112, 167, 2, 336, 385, 39, 4, 172, 4536, 1111, 17, 546, 38, 13, 447, 4, 192, 50, 16, 6, 147, 2025, 19, 14, 22, 4, 1920, 4613, 469, 4, 22, 71, 87, 12, 16, 43, 530, 38, 76, 15, 13, 1247, 4, 22, 17, 515, 17, 12, 16, 626, 18, 2, 5, 62, 386, 12, 8, 316, 8, 106, 5, 4, 2223, 5244, 16, 480, 66, 3785, 33, 4, 130, 12, 16, 38, 619, 5, 25, 124, 51, 36, 135, 48, 25, 1415, 33, 6, 22, 12, 215, 28, 77, 52, 5, 14, 407, 16, 82, 2, 8, 4, 107, 117, 5952, 15, 256, 4, 2, 7, 3766, 5, 723, 36, 71, 43, 530, 476, 26, 400, 317, 46, 7, 4, 2, 1029, 13, 104, 88, 4, 381, 15, 297, 98, 32, 2071, 56, 26, 141, 6, 194, 7486, 18, 4, 226, 22, 21, 134, 476, 26, 480, 5, 144, 30, 5535, 18, 51, 36, 28, 224, 92, 25, 104, 4, 226, 65, 16, 38, 1334, 88, 12, 16, 283, 5, 16, 4472, 113, 103, 32, 15, 16, 5345, 19, 178, 32]\n"
     ]
    }
   ],
   "source": [
    "print(train_data[0])"
   ]
  },
  {
   "cell_type": "code",
   "execution_count": 8,
   "metadata": {},
   "outputs": [
    {
     "name": "stdout",
     "output_type": "stream",
     "text": [
      "Downloading data from https://storage.googleapis.com/tensorflow/tf-keras-datasets/imdb_word_index.json\n",
      "1646592/1641221 [==============================] - 0s 0us/step\n"
     ]
    }
   ],
   "source": [
    "# A dictionary mapping words to an integer index\n",
    "word_index = imdb.get_word_index()\n",
    "\n",
    "# The first indices are reserved\n",
    "word_index = {k:(v+3) for k,v in word_index.items()} \n",
    "word_index[\"<PAD>\"] = 0\n",
    "word_index[\"<START>\"] = 1\n",
    "word_index[\"<UNK>\"] = 2  # unknown\n",
    "word_index[\"<UNUSED>\"] = 3\n",
    "\n",
    "reverse_word_index = dict([(value, key) for (key, value) in word_index.items()])\n",
    "\n",
    "def decode_review(text):\n",
    "    return ' '.join([reverse_word_index.get(i, '?') for i in text])"
   ]
  },
  {
   "cell_type": "code",
   "execution_count": 9,
   "metadata": {},
   "outputs": [
    {
     "data": {
      "text/plain": [
       "\"<START> this film was just brilliant casting location scenery story direction everyone's really suited the part they played and you could just imagine being there robert <UNK> is an amazing actor and now the same being director <UNK> father came from the same scottish island as myself so i loved the fact there was a real connection with this film the witty remarks throughout the film were great it was just brilliant so much that i bought the film as soon as it was released for <UNK> and would recommend it to everyone to watch and the fly fishing was amazing really cried at the end it was so sad and you know what they say if you cry at a film it must have been good and this definitely was also <UNK> to the two little boy's that played the <UNK> of norman and paul they were just brilliant children are often left out of the <UNK> list i think because the stars that play them all grown up are such a big profile for the whole film but these children are amazing and should be praised for what they have done don't you think the whole story was so lovely because it was true and was someone's life after all that was shared with us all\""
      ]
     },
     "execution_count": 9,
     "metadata": {},
     "output_type": "execute_result"
    }
   ],
   "source": [
    "decode_review(train_data[0])"
   ]
  },
  {
   "cell_type": "code",
   "execution_count": 10,
   "metadata": {},
   "outputs": [],
   "source": [
    "train_data = keras.preprocessing.sequence.pad_sequences(train_data,\n",
    "                                                        value=word_index[\"<PAD>\"],\n",
    "                                                        padding='post',\n",
    "                                                        maxlen=256)\n",
    "\n",
    "test_data = keras.preprocessing.sequence.pad_sequences(test_data,\n",
    "                                                       value=word_index[\"<PAD>\"],\n",
    "                                                       padding='post',\n",
    "                                                       maxlen=256)"
   ]
  },
  {
   "cell_type": "code",
   "execution_count": 11,
   "metadata": {},
   "outputs": [
    {
     "data": {
      "text/plain": [
       "(256, 256)"
      ]
     },
     "execution_count": 11,
     "metadata": {},
     "output_type": "execute_result"
    }
   ],
   "source": [
    "len(train_data[0]), len(train_data[1])"
   ]
  },
  {
   "cell_type": "code",
   "execution_count": 12,
   "metadata": {},
   "outputs": [
    {
     "name": "stdout",
     "output_type": "stream",
     "text": [
      "[   1   14   22   16   43  530  973 1622 1385   65  458 4468   66 3941\n",
      "    4  173   36  256    5   25  100   43  838  112   50  670    2    9\n",
      "   35  480  284    5  150    4  172  112  167    2  336  385   39    4\n",
      "  172 4536 1111   17  546   38   13  447    4  192   50   16    6  147\n",
      " 2025   19   14   22    4 1920 4613  469    4   22   71   87   12   16\n",
      "   43  530   38   76   15   13 1247    4   22   17  515   17   12   16\n",
      "  626   18    2    5   62  386   12    8  316    8  106    5    4 2223\n",
      " 5244   16  480   66 3785   33    4  130   12   16   38  619    5   25\n",
      "  124   51   36  135   48   25 1415   33    6   22   12  215   28   77\n",
      "   52    5   14  407   16   82    2    8    4  107  117 5952   15  256\n",
      "    4    2    7 3766    5  723   36   71   43  530  476   26  400  317\n",
      "   46    7    4    2 1029   13  104   88    4  381   15  297   98   32\n",
      " 2071   56   26  141    6  194 7486   18    4  226   22   21  134  476\n",
      "   26  480    5  144   30 5535   18   51   36   28  224   92   25  104\n",
      "    4  226   65   16   38 1334   88   12   16  283    5   16 4472  113\n",
      "  103   32   15   16 5345   19  178   32    0    0    0    0    0    0\n",
      "    0    0    0    0    0    0    0    0    0    0    0    0    0    0\n",
      "    0    0    0    0    0    0    0    0    0    0    0    0    0    0\n",
      "    0    0    0    0]\n"
     ]
    }
   ],
   "source": [
    "print(train_data[0])"
   ]
  },
  {
   "cell_type": "code",
   "execution_count": 13,
   "metadata": {},
   "outputs": [
    {
     "name": "stdout",
     "output_type": "stream",
     "text": [
      "_________________________________________________________________\n",
      "Layer (type)                 Output Shape              Param #   \n",
      "=================================================================\n",
      "embedding (Embedding)        (None, None, 16)          160000    \n",
      "_________________________________________________________________\n",
      "global_average_pooling1d (Gl (None, 16)                0         \n",
      "_________________________________________________________________\n",
      "dense (Dense)                (None, 16)                272       \n",
      "_________________________________________________________________\n",
      "dense_1 (Dense)              (None, 1)                 17        \n",
      "=================================================================\n",
      "Total params: 160,289\n",
      "Trainable params: 160,289\n",
      "Non-trainable params: 0\n",
      "_________________________________________________________________\n"
     ]
    }
   ],
   "source": [
    "vocab_size = 10000\n",
    "\n",
    "model = keras.Sequential()\n",
    "model.add(keras.layers.Embedding(vocab_size, 16))\n",
    "model.add(keras.layers.GlobalAveragePooling1D())\n",
    "model.add(keras.layers.Dense(16, activation=tf.nn.relu))\n",
    "model.add(keras.layers.Dense(1, activation=tf.nn.sigmoid))\n",
    "\n",
    "model.summary()"
   ]
  },
  {
   "cell_type": "code",
   "execution_count": 14,
   "metadata": {},
   "outputs": [],
   "source": [
    "model.compile(optimizer='adam',\n",
    "              loss='binary_crossentropy',\n",
    "              metrics=['acc'])"
   ]
  },
  {
   "cell_type": "code",
   "execution_count": 15,
   "metadata": {},
   "outputs": [],
   "source": [
    "x_val = train_data[:10000]\n",
    "partial_x_train = train_data[10000:]\n",
    "\n",
    "y_val = train_labels[:10000]\n",
    "partial_y_train = train_labels[10000:]"
   ]
  },
  {
   "cell_type": "code",
   "execution_count": 16,
   "metadata": {},
   "outputs": [
    {
     "name": "stderr",
     "output_type": "stream",
     "text": [
      "C:\\Users\\paull\\Anaconda3\\lib\\site-packages\\tensorflow\\python\\ops\\gradients_impl.py:108: UserWarning: Converting sparse IndexedSlices to a dense Tensor of unknown shape. This may consume a large amount of memory.\n",
      "  \"Converting sparse IndexedSlices to a dense Tensor of unknown shape. \"\n"
     ]
    },
    {
     "name": "stdout",
     "output_type": "stream",
     "text": [
      "Train on 15000 samples, validate on 10000 samples\n",
      "Epoch 1/40\n",
      "15000/15000 [==============================] - 1s 62us/step - loss: 0.6948 - acc: 0.5070 - val_loss: 0.6914 - val_acc: 0.5571\n",
      "Epoch 2/40\n",
      "15000/15000 [==============================] - 1s 36us/step - loss: 0.6901 - acc: 0.5479 - val_loss: 0.6889 - val_acc: 0.5883\n",
      "Epoch 3/40\n",
      "15000/15000 [==============================] - 1s 36us/step - loss: 0.6872 - acc: 0.5967 - val_loss: 0.6863 - val_acc: 0.6298\n",
      "Epoch 4/40\n",
      "15000/15000 [==============================] - 1s 35us/step - loss: 0.6835 - acc: 0.6463 - val_loss: 0.6834 - val_acc: 0.5392\n",
      "Epoch 5/40\n",
      "15000/15000 [==============================] - 1s 35us/step - loss: 0.6789 - acc: 0.6816 - val_loss: 0.6772 - val_acc: 0.7087\n",
      "Epoch 6/40\n",
      "15000/15000 [==============================] - 1s 35us/step - loss: 0.6723 - acc: 0.7249 - val_loss: 0.6703 - val_acc: 0.7124\n",
      "Epoch 7/40\n",
      "15000/15000 [==============================] - 1s 35us/step - loss: 0.6635 - acc: 0.7390 - val_loss: 0.6613 - val_acc: 0.7363\n",
      "Epoch 8/40\n",
      "15000/15000 [==============================] - 1s 35us/step - loss: 0.6519 - acc: 0.7514 - val_loss: 0.6496 - val_acc: 0.7382\n",
      "Epoch 9/40\n",
      "15000/15000 [==============================] - 1s 37us/step - loss: 0.6374 - acc: 0.7573 - val_loss: 0.6341 - val_acc: 0.7517\n",
      "Epoch 10/40\n",
      "15000/15000 [==============================] - 1s 37us/step - loss: 0.6190 - acc: 0.7749 - val_loss: 0.6158 - val_acc: 0.7600\n",
      "Epoch 11/40\n",
      "15000/15000 [==============================] - 1s 35us/step - loss: 0.5978 - acc: 0.7737 - val_loss: 0.5970 - val_acc: 0.7608\n",
      "Epoch 12/40\n",
      "15000/15000 [==============================] - 1s 35us/step - loss: 0.5739 - acc: 0.7917 - val_loss: 0.5724 - val_acc: 0.7819\n",
      "Epoch 13/40\n",
      "15000/15000 [==============================] - 1s 36us/step - loss: 0.5473 - acc: 0.8049 - val_loss: 0.5489 - val_acc: 0.7919\n",
      "Epoch 14/40\n",
      "15000/15000 [==============================] - 1s 34us/step - loss: 0.5207 - acc: 0.8147 - val_loss: 0.5245 - val_acc: 0.8031\n",
      "Epoch 15/40\n",
      "15000/15000 [==============================] - 1s 34us/step - loss: 0.4936 - acc: 0.8275 - val_loss: 0.4997 - val_acc: 0.8095\n",
      "Epoch 16/40\n",
      "15000/15000 [==============================] - 1s 35us/step - loss: 0.4675 - acc: 0.8345 - val_loss: 0.4765 - val_acc: 0.8217\n",
      "Epoch 17/40\n",
      "15000/15000 [==============================] - 1s 34us/step - loss: 0.4413 - acc: 0.8485 - val_loss: 0.4549 - val_acc: 0.8280\n",
      "Epoch 18/40\n",
      "15000/15000 [==============================] - 1s 34us/step - loss: 0.4176 - acc: 0.8564 - val_loss: 0.4345 - val_acc: 0.8356\n",
      "Epoch 19/40\n",
      "15000/15000 [==============================] - 1s 35us/step - loss: 0.3959 - acc: 0.8649 - val_loss: 0.4164 - val_acc: 0.8408\n",
      "Epoch 20/40\n",
      "15000/15000 [==============================] - 1s 34us/step - loss: 0.3760 - acc: 0.8703 - val_loss: 0.4004 - val_acc: 0.8469\n",
      "Epoch 21/40\n",
      "15000/15000 [==============================] - 1s 34us/step - loss: 0.3580 - acc: 0.8773 - val_loss: 0.3862 - val_acc: 0.8518\n",
      "Epoch 22/40\n",
      "15000/15000 [==============================] - 1s 34us/step - loss: 0.3419 - acc: 0.8821 - val_loss: 0.3739 - val_acc: 0.8562\n",
      "Epoch 23/40\n",
      "15000/15000 [==============================] - 1s 35us/step - loss: 0.3277 - acc: 0.8869 - val_loss: 0.3636 - val_acc: 0.8588\n",
      "Epoch 24/40\n",
      "15000/15000 [==============================] - 1s 34us/step - loss: 0.3143 - acc: 0.8905 - val_loss: 0.3538 - val_acc: 0.8627\n",
      "Epoch 25/40\n",
      "15000/15000 [==============================] - 1s 34us/step - loss: 0.3025 - acc: 0.8944 - val_loss: 0.3456 - val_acc: 0.8656\n",
      "Epoch 26/40\n",
      "15000/15000 [==============================] - 1s 34us/step - loss: 0.2916 - acc: 0.8964 - val_loss: 0.3387 - val_acc: 0.8681\n",
      "Epoch 27/40\n",
      "15000/15000 [==============================] - 1s 34us/step - loss: 0.2820 - acc: 0.8989 - val_loss: 0.3322 - val_acc: 0.8686\n",
      "Epoch 28/40\n",
      "15000/15000 [==============================] - 1s 34us/step - loss: 0.2724 - acc: 0.9029 - val_loss: 0.3262 - val_acc: 0.8727\n",
      "Epoch 29/40\n",
      "15000/15000 [==============================] - 1s 35us/step - loss: 0.2639 - acc: 0.9056 - val_loss: 0.3217 - val_acc: 0.8741\n",
      "Epoch 30/40\n",
      "15000/15000 [==============================] - 1s 34us/step - loss: 0.2568 - acc: 0.9071 - val_loss: 0.3169 - val_acc: 0.8758\n",
      "Epoch 31/40\n",
      "15000/15000 [==============================] - 1s 34us/step - loss: 0.2485 - acc: 0.9113 - val_loss: 0.3133 - val_acc: 0.8765\n",
      "Epoch 32/40\n",
      "15000/15000 [==============================] - 1s 35us/step - loss: 0.2421 - acc: 0.9139 - val_loss: 0.3097 - val_acc: 0.8783\n",
      "Epoch 33/40\n",
      "15000/15000 [==============================] - 1s 34us/step - loss: 0.2347 - acc: 0.9175 - val_loss: 0.3066 - val_acc: 0.8791\n",
      "Epoch 34/40\n",
      "15000/15000 [==============================] - 1s 35us/step - loss: 0.2286 - acc: 0.9203 - val_loss: 0.3041 - val_acc: 0.8792\n",
      "Epoch 35/40\n",
      "15000/15000 [==============================] - 1s 34us/step - loss: 0.2231 - acc: 0.9203 - val_loss: 0.3014 - val_acc: 0.8798\n",
      "Epoch 36/40\n",
      "15000/15000 [==============================] - 1s 34us/step - loss: 0.2168 - acc: 0.9234 - val_loss: 0.2993 - val_acc: 0.8799\n",
      "Epoch 37/40\n",
      "15000/15000 [==============================] - 1s 34us/step - loss: 0.2115 - acc: 0.9267 - val_loss: 0.2974 - val_acc: 0.8799\n",
      "Epoch 38/40\n",
      "15000/15000 [==============================] - 1s 34us/step - loss: 0.2064 - acc: 0.9279 - val_loss: 0.2955 - val_acc: 0.8816\n",
      "Epoch 39/40\n",
      "15000/15000 [==============================] - 1s 34us/step - loss: 0.2010 - acc: 0.9301 - val_loss: 0.2939 - val_acc: 0.8820\n",
      "Epoch 40/40\n",
      "15000/15000 [==============================] - 1s 34us/step - loss: 0.1962 - acc: 0.9309 - val_loss: 0.2924 - val_acc: 0.8839\n"
     ]
    }
   ],
   "source": [
    "history = model.fit(partial_x_train,\n",
    "                    partial_y_train,\n",
    "                    epochs=40,\n",
    "                    batch_size=512,\n",
    "                    validation_data=(x_val, y_val),\n",
    "                    verbose=1)"
   ]
  },
  {
   "cell_type": "code",
   "execution_count": 17,
   "metadata": {},
   "outputs": [
    {
     "name": "stdout",
     "output_type": "stream",
     "text": [
      "25000/25000 [==============================] - 0s 14us/step\n",
      "[0.3068579182720184, 0.87508]\n"
     ]
    }
   ],
   "source": [
    "results = model.evaluate(test_data, test_labels)\n",
    "\n",
    "print(results)"
   ]
  },
  {
   "cell_type": "code",
   "execution_count": 18,
   "metadata": {},
   "outputs": [
    {
     "data": {
      "text/plain": [
       "dict_keys(['val_loss', 'val_acc', 'loss', 'acc'])"
      ]
     },
     "execution_count": 18,
     "metadata": {},
     "output_type": "execute_result"
    }
   ],
   "source": [
    "history_dict = history.history\n",
    "history_dict.keys()"
   ]
  },
  {
   "cell_type": "code",
   "execution_count": 19,
   "metadata": {},
   "outputs": [
    {
     "data": {
      "text/plain": [
       "<Figure size 640x480 with 1 Axes>"
      ]
     },
     "metadata": {},
     "output_type": "display_data"
    }
   ],
   "source": [
    "import matplotlib.pyplot as plt\n",
    "\n",
    "acc = history_dict['acc']\n",
    "val_acc = history_dict['val_acc']\n",
    "loss = history_dict['loss']\n",
    "val_loss = history_dict['val_loss']\n",
    "\n",
    "epochs = range(1, len(acc) + 1)\n",
    "\n",
    "# \"bo\" is for \"blue dot\"\n",
    "plt.plot(epochs, loss, 'bo', label='Training loss')\n",
    "# b is for \"solid blue line\"\n",
    "plt.plot(epochs, val_loss, 'b', label='Validation loss')\n",
    "plt.title('Training and validation loss')\n",
    "plt.xlabel('Epochs')\n",
    "plt.ylabel('Loss')\n",
    "plt.legend()\n",
    "\n",
    "plt.show()"
   ]
  },
  {
   "cell_type": "code",
   "execution_count": 20,
   "metadata": {},
   "outputs": [
    {
     "data": {
      "image/png": "[encoded data removed]",
      "text/plain": [
       "<Figure size 432x288 with 1 Axes>"
      ]
     },
     "metadata": {},
     "output_type": "display_data"
    }
   ],
   "source": [
    "plt.clf()   # clear figure\n",
    "\n",
    "plt.plot(epochs, acc, 'bo', label='Training acc')\n",
    "plt.plot(epochs, val_acc, 'b', label='Validation acc')\n",
    "plt.title('Training and validation accuracy')\n",
    "plt.xlabel('Epochs')\n",
    "plt.ylabel('Accuracy')\n",
    "plt.legend()\n",
    "\n",
    "plt.show()"
   ]
  },
  {
   "cell_type": "code",
   "execution_count": null,
   "metadata": {},
   "outputs": [],
   "source": []
  }
 ],
 "metadata": {
  "kernelspec": {
   "display_name": "Python 3",
   "language": "python",
   "name": "python3"
  },
  "language_info": {
   "codemirror_mode": {
    "name": "ipython",
    "version": 3
   },
   "file_extension": ".py",
   "mimetype": "text/x-python",
   "name": "python",
   "nbconvert_exporter": "python",
   "pygments_lexer": "ipython3",
   "version": "3.6.5"
  }
 },
 "nbformat": 4,
 "nbformat_minor": 2
}
